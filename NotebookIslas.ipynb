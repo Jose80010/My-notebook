{
 "cells": [
  {
   "cell_type": "markdown",
   "id": "615c4397",
   "metadata": {},
   "source": [
    "<h1>My Jupyter Notebook on IBM Watson Studio</h1>"
   ]
  },
  {
   "cell_type": "markdown",
   "id": "a8bb76b3",
   "metadata": {},
   "source": [
    "<strong>My name is Jose Angel </strong> and I am a Mathematician. I want to become a full time data scientist"
   ]
  },
  {
   "cell_type": "markdown",
   "id": "aba5a0fd",
   "metadata": {},
   "source": [
    " <em> I am interested in data science because I want to solve real world problems using data and my analytical skills </em>"
   ]
  },
  {
   "cell_type": "markdown",
   "id": "189dd041",
   "metadata": {},
   "source": [
    "<H3>My code uses sophisticated AI and mathematical algorithms to solve 1+1</H3>"
   ]
  },
  {
   "cell_type": "code",
   "execution_count": 3,
   "id": "6fbbdde3",
   "metadata": {},
   "outputs": [
    {
     "data": {
      "text/plain": [
       "2"
      ]
     },
     "execution_count": 3,
     "metadata": {},
     "output_type": "execute_result"
    }
   ],
   "source": [
    "1+1"
   ]
  },
  {
   "cell_type": "markdown",
   "id": "cc0fe849",
   "metadata": {},
   "source": [
    "<p>Bullets:</p>\n",
    "\n",
    "<ol>\n",
    "  <li>First </li>\n",
    "      \n",
    "  <li>Second</li>\n",
    "     \n",
    "</ol>\n",
    "<p>A <a href=\"http://amigos.com\">linkAmigos</a>.</p>\n",
    "\n",
    "<p>Horizontal rule:</p>\n",
    "\n",
    "<hr />"
   ]
  }
 ],
 "metadata": {
  "kernelspec": {
   "display_name": "Python 3",
   "language": "python",
   "name": "python3"
  },
  "language_info": {
   "codemirror_mode": {
    "name": "ipython",
    "version": 3
   },
   "file_extension": ".py",
   "mimetype": "text/x-python",
   "name": "python",
   "nbconvert_exporter": "python",
   "pygments_lexer": "ipython3",
   "version": "3.8.8"
  }
 },
 "nbformat": 4,
 "nbformat_minor": 5
}
